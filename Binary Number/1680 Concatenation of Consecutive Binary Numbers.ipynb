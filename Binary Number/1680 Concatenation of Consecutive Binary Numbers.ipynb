{
 "cells": [
  {
   "cell_type": "markdown",
   "metadata": {},
   "source": [
    "### 1680 Concatenation of Consecutive Binary Numbers\n",
    "\n",
    "Given an integer n, return the decimal value of the binary string formed by concatenating the binary representations of 1 to n in order, modulo $10^9 + 7$."
   ]
  },
  {
   "cell_type": "markdown",
   "metadata": {},
   "source": [
    "#### Example 1\n",
    "Input: n = 3\n",
    "\n",
    "Output: 27\n",
    "\n",
    "Explanation: In binary, 1, 2, and 3 corresponds to \"1\", \"10\", and \"11\".\n",
    "\n",
    "After concatenating them, we have \"11011\", which corresponds to the decimal value 27."
   ]
  },
  {
   "cell_type": "markdown",
   "metadata": {},
   "source": [
    "#### Example 2 \n",
    "Input: n = 12\n",
    "\n",
    "Output: 505379714\n",
    "\n",
    "Explanation: The concatenation results in \"1101110010111011110001001101010111100\".\n",
    "\n",
    "The decimal value of that is 118505380540.\n",
    "\n",
    "After modulo $10^9 + 7$, the result is 505379714."
   ]
  },
  {
   "cell_type": "code",
   "execution_count": 1,
   "metadata": {},
   "outputs": [],
   "source": [
    "class Solution:\n",
    "    def concatenatedBinary(self, n: int) -> int:\n",
    "        mod = 10**9+7\n",
    "        res = 0\n",
    "        size = 0\n",
    "        for i in range(1,n+1):\n",
    "            if (i&(i-1)) == 0:\n",
    "                size += 1\n",
    "            res =((res<<size)+i) % mod\n",
    "        return res"
   ]
  },
  {
   "cell_type": "markdown",
   "metadata": {},
   "source": [
    "### Operation\n",
    "To review the operations of binary number, click on the link below.\n",
    "https://www.cnblogs.com/Neeo/articles/10536202.html#%E6%8C%89%E4%BD%8D%E4%B8%8E-"
   ]
  },
  {
   "cell_type": "code",
   "execution_count": null,
   "metadata": {},
   "outputs": [],
   "source": []
  }
 ],
 "metadata": {
  "kernelspec": {
   "display_name": "Python 3",
   "language": "python",
   "name": "python3"
  },
  "language_info": {
   "codemirror_mode": {
    "name": "ipython",
    "version": 3
   },
   "file_extension": ".py",
   "mimetype": "text/x-python",
   "name": "python",
   "nbconvert_exporter": "python",
   "pygments_lexer": "ipython3",
   "version": "3.7.3"
  }
 },
 "nbformat": 4,
 "nbformat_minor": 2
}
