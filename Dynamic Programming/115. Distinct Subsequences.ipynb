{
 "cells": [
  {
   "cell_type": "markdown",
   "metadata": {},
   "source": [
    "### 115. Distinct Subsequences\n",
    "Given two strings s and t, return the number of distinct subsequences of s which equals t.\n",
    "\n",
    "A string's subsequence is a new string formed from the original string by deleting some (can be none) of the characters without disturbing the relative positions of the remaining characters. (i.e., \"ACE\" is a subsequence of \"ABCDE\" while \"AEC\" is not).\n",
    "\n",
    "It's guaranteed the answer fits on a 32-bit signed integer."
   ]
  },
  {
   "cell_type": "markdown",
   "metadata": {},
   "source": [
    "#### Example 1\n",
    "Input: s = \"rabbbit\", t = \"rabbit\"\n",
    "\n",
    "Output: 3\n",
    "#### Example 2\n",
    "Input: s = \"babgbag\", t = \"bag\"\n",
    "\n",
    "Output: 5\n"
   ]
  },
  {
   "cell_type": "markdown",
   "metadata": {},
   "source": [
    "#### Solution"
   ]
  },
  {
   "cell_type": "code",
   "execution_count": 1,
   "metadata": {},
   "outputs": [],
   "source": [
    "class Solution:\n",
    "    def numDistinct(self, s: str, t: str) -> int:\n",
    "        n1, n2 = len(s), len(t)\n",
    "        dp = [[0] * (n1+1) for _ in range(n2+1)]\n",
    "        for j in range(n1+1):\n",
    "            dp[0][j] = 1\n",
    "        for i in range(1, n2+1):\n",
    "            for j in range(1, n1+1):\n",
    "                if s[j-1] == t[i-1]:\n",
    "                    dp[i][j] = dp[i-1][j-1] + dp[i][j-1]\n",
    "                else:\n",
    "                    dp[i][j] = dp[i][j-1]\n",
    "                    \n",
    "        return dp[-1][-1]       "
   ]
  },
  {
   "cell_type": "code",
   "execution_count": 2,
   "metadata": {},
   "outputs": [
    {
     "data": {
      "text/plain": [
       "3"
      ]
     },
     "execution_count": 2,
     "metadata": {},
     "output_type": "execute_result"
    }
   ],
   "source": [
    "s = \"rabbbit\"\n",
    "t = \"rabbit\"\n",
    "Solution.numDistinct(_,s,t)"
   ]
  },
  {
   "cell_type": "code",
   "execution_count": null,
   "metadata": {},
   "outputs": [],
   "source": []
  }
 ],
 "metadata": {
  "kernelspec": {
   "display_name": "Python 3",
   "language": "python",
   "name": "python3"
  },
  "language_info": {
   "codemirror_mode": {
    "name": "ipython",
    "version": 3
   },
   "file_extension": ".py",
   "mimetype": "text/x-python",
   "name": "python",
   "nbconvert_exporter": "python",
   "pygments_lexer": "ipython3",
   "version": "3.7.3"
  }
 },
 "nbformat": 4,
 "nbformat_minor": 2
}
