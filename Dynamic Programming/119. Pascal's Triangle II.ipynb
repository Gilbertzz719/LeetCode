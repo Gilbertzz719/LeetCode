{
 "cells": [
  {
   "cell_type": "markdown",
   "metadata": {},
   "source": [
    "# Daily Challenge 2/12/2021"
   ]
  },
  {
   "cell_type": "markdown",
   "metadata": {},
   "source": [
    "**Link:** https://leetcode.com/problems/pascals-triangle-ii/\n",
    "\n",
    "Given an integer rowIndex, return the rowIndexth row of the Pascal's triangle."
   ]
  },
  {
   "cell_type": "markdown",
   "metadata": {},
   "source": [
    "### Solution\n",
    "\n",
    "Apply dynamic programming. \n",
    "1. Create a two dimensional array $output$  \n",
    "2. The state transition function is $output[i][j] = output[i-1][j-1] + output[i-1][j]$"
   ]
  },
  {
   "cell_type": "code",
   "execution_count": null,
   "metadata": {},
   "outputs": [],
   "source": [
    "class Solution:\n",
    "    def getRow(self, rowIndex: int) -> List[int]:\n",
    "        output = [[1 for j in range(i + 1)] for i in range(rowIndex + 1)]\n",
    "        for i in range(2, rowIndex + 1):\n",
    "            for j in range(1, i):\n",
    "                output[i][j] = output[i - 1][j - 1] + output[i - 1][j]\n",
    "        return output[-1]"
   ]
  }
 ],
 "metadata": {
  "kernelspec": {
   "display_name": "Python 3",
   "language": "python",
   "name": "python3"
  },
  "language_info": {
   "codemirror_mode": {
    "name": "ipython",
    "version": 3
   },
   "file_extension": ".py",
   "mimetype": "text/x-python",
   "name": "python",
   "nbconvert_exporter": "python",
   "pygments_lexer": "ipython3",
   "version": "3.7.3"
  }
 },
 "nbformat": 4,
 "nbformat_minor": 2
}
