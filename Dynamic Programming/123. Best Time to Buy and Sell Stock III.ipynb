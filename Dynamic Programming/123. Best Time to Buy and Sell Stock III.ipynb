{
 "cells": [
  {
   "cell_type": "markdown",
   "metadata": {},
   "source": [
    "### Question\n",
    "\n",
    "**Link** :https://leetcode.com/problems/best-time-to-buy-and-sell-stock-iii/\n",
    "\n",
    "Say you have an array for which the $i^{th}$ element is the price of a given stock on day $i$.\n",
    "\n",
    "Design an algorithm to find the maximum profit. You may complete at most two transactions."
   ]
  },
  {
   "cell_type": "markdown",
   "metadata": {},
   "source": [
    "### Example 1\n",
    "Input: prices = [3,3,5,0,0,3,1,4]\n",
    "\n",
    "Output: 6\n",
    "\n",
    "Explanation: Buy on day 4 (price = 0) and sell on day 6 (price = 3), profit = 3-0 = 3.\n",
    "\n",
    "Then buy on day 7 (price = 1) and sell on day 8 (price = 4), profit = 4-1 = 3."
   ]
  },
  {
   "cell_type": "code",
   "execution_count": 2,
   "metadata": {},
   "outputs": [],
   "source": [
    "class Solution:\n",
    "    def maxProfit(self, prices) -> int:\n",
    "        n = len(prices)\n",
    "        buy1 = buy2 = -prices[0]\n",
    "        sell1 = sell2 = 0\n",
    "        for i in range(1,n):\n",
    "            buy1 = max(buy1,-prices[i])\n",
    "            sell1 = max(sell1,buy1+prices[i])\n",
    "            buy2 = max(buy2, sell1-prices[i])\n",
    "            sell2 = max(sell2, buy2+prices[i])\n",
    "        \n",
    "        return sell2"
   ]
  }
 ],
 "metadata": {
  "kernelspec": {
   "display_name": "Python 3",
   "language": "python",
   "name": "python3"
  },
  "language_info": {
   "codemirror_mode": {
    "name": "ipython",
    "version": 3
   },
   "file_extension": ".py",
   "mimetype": "text/x-python",
   "name": "python",
   "nbconvert_exporter": "python",
   "pygments_lexer": "ipython3",
   "version": "3.7.3"
  }
 },
 "nbformat": 4,
 "nbformat_minor": 2
}
