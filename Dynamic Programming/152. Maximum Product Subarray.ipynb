{
 "cells": [
  {
   "cell_type": "markdown",
   "metadata": {},
   "source": [
    "## Daily Challenge 2/11/2021"
   ]
  },
  {
   "cell_type": "markdown",
   "metadata": {},
   "source": [
    "**Link:** https://leetcode.com/problems/maximum-product-subarray/\n",
    "\n",
    "Given an integer array nums, find the contiguous subarray within an array (containing at least one number) which has the largest product."
   ]
  },
  {
   "cell_type": "markdown",
   "metadata": {},
   "source": [
    "### Solution\n",
    "\n",
    "1. Create two lists dp_max and dp_min to record the minimum and maximum product in each iteration\n",
    "2. Since the number has a chance to be negative in each iteration, the largest product would be one of dp_max \\times num, dp_min \\times num and num.\n",
    "3. Update dp_max and dp_min"
   ]
  },
  {
   "cell_type": "code",
   "execution_count": null,
   "metadata": {},
   "outputs": [],
   "source": [
    "class Solution:\n",
    "    def maxProduct(self, nums: List[int]) -> int:\n",
    "        if not nums: return \n",
    "        res = nums[0]\n",
    "        dp_max = nums[0]\n",
    "        dp_min = nums[0]\n",
    "        for num in nums[1:]:\n",
    "            cur_max = max(dp_min*num,dp_max*num,num)\n",
    "            cur_min = min(dp_min*num,dp_max*num,num)\n",
    "            res = max(res,cur_max)\n",
    "            dp_max = cur_max\n",
    "            dp_min = cur_min\n",
    "            \n",
    "        return res"
   ]
  }
 ],
 "metadata": {
  "kernelspec": {
   "display_name": "Python 3",
   "language": "python",
   "name": "python3"
  },
  "language_info": {
   "codemirror_mode": {
    "name": "ipython",
    "version": 3
   },
   "file_extension": ".py",
   "mimetype": "text/x-python",
   "name": "python",
   "nbconvert_exporter": "python",
   "pygments_lexer": "ipython3",
   "version": "3.7.3"
  }
 },
 "nbformat": 4,
 "nbformat_minor": 2
}
