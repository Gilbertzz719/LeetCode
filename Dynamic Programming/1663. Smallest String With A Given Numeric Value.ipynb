{
 "cells": [
  {
   "cell_type": "markdown",
   "metadata": {},
   "source": [
    "**Link** https://leetcode.com/problems/smallest-string-with-a-given-numeric-value/\n",
    "\n",
    "The numeric value of a lowercase character is defined as its position (1-indexed) in the alphabet, so the numeric value of a is 1, the numeric value of b is 2, the numeric value of c is 3, and so on.\n",
    "\n",
    "The numeric value of a string consisting of lowercase characters is defined as the sum of its characters' numeric values. For example, the numeric value of the string \"abe\" is equal to 1 + 2 + 5 = 8.\n",
    "\n",
    "You are given two integers n and k. Return the lexicographically smallest string with length equal to n and numeric value equal to k.\n",
    "\n",
    "Note that a string x is lexicographically smaller than string y if x comes before y in dictionary order, that is, either x is a prefix of y, or if i is the first position such that x[i] != y[i], then x[i] comes before y[i] in alphabetic order."
   ]
  },
  {
   "cell_type": "code",
   "execution_count": 1,
   "metadata": {},
   "outputs": [],
   "source": [
    "class Solution:\n",
    "    def getSmallestString(self, n: int, k: int) -> str:\n",
    "        ans = list()\n",
    "        for i in range(n,0,-1):\n",
    "            lb = k-26*(i-1)\n",
    "            if lb > 0:\n",
    "                ans.append(chr(lb+96))\n",
    "                k -= lb\n",
    "            else:\n",
    "                ans.append('a')\n",
    "                k -= 1\n",
    "                \n",
    "        return ''.join(ans)"
   ]
  },
  {
   "cell_type": "code",
   "execution_count": null,
   "metadata": {},
   "outputs": [],
   "source": []
  }
 ],
 "metadata": {
  "kernelspec": {
   "display_name": "Python 3",
   "language": "python",
   "name": "python3"
  },
  "language_info": {
   "codemirror_mode": {
    "name": "ipython",
    "version": 3
   },
   "file_extension": ".py",
   "mimetype": "text/x-python",
   "name": "python",
   "nbconvert_exporter": "python",
   "pygments_lexer": "ipython3",
   "version": "3.7.3"
  }
 },
 "nbformat": 4,
 "nbformat_minor": 2
}
