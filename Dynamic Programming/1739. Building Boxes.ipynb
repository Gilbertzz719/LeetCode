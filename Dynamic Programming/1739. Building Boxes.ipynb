{
 "cells": [
  {
   "cell_type": "markdown",
   "metadata": {},
   "source": [
    "## Daily Challenge 2/12/2021"
   ]
  },
  {
   "cell_type": "markdown",
   "metadata": {},
   "source": [
    "**Link:** https://leetcode.com/problems/building-boxes/\n",
    "\n",
    "You have a cubic storeroom where the width, length, and height of the room are all equal to n units. You are asked to place n boxes in this room where each box is a cube of unit side length. There are however some rules to placing the boxes:\n",
    "\n",
    "You can place the boxes anywhere on the floor.\n",
    "If box x is placed on top of the box y, then each side of the four vertical sides of the box y must either be adjacent to another box or to a wall.\n",
    "Given an integer n, return the minimum possible number of boxes touching the floor."
   ]
  },
  {
   "cell_type": "code",
   "execution_count": null,
   "metadata": {},
   "outputs": [],
   "source": [
    "class Solution:\n",
    "    def minimumBoxes(self, n: int) -> int:\n",
    "        layer, diff, blocks = 0, 1, 0\n",
    "        while True:\n",
    "            if blocks + layer > n:\n",
    "                break\n",
    "            blocks += layer\n",
    "            layer += diff\n",
    "            diff += 1\n",
    "        res = layer - diff + 1\n",
    "\n",
    "        for i in range(1, layer-1):\n",
    "            if blocks + i <= n:\n",
    "                res += 1\n",
    "                blocks += i\n",
    "            else:\n",
    "                break\n",
    "\n",
    "        return res+1 if not blocks == n else res"
   ]
  }
 ],
 "metadata": {
  "kernelspec": {
   "display_name": "Python 3",
   "language": "python",
   "name": "python3"
  },
  "language_info": {
   "codemirror_mode": {
    "name": "ipython",
    "version": 3
   },
   "file_extension": ".py",
   "mimetype": "text/x-python",
   "name": "python",
   "nbconvert_exporter": "python",
   "pygments_lexer": "ipython3",
   "version": "3.7.3"
  }
 },
 "nbformat": 4,
 "nbformat_minor": 2
}
