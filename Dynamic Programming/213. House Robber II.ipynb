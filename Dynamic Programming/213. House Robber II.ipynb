{
 "cells": [
  {
   "cell_type": "markdown",
   "metadata": {},
   "source": [
    "## Daily Challenge 2/7/2021"
   ]
  },
  {
   "cell_type": "markdown",
   "metadata": {},
   "source": [
    "**Link:** https://leetcode.com/problems/house-robber-ii/\n",
    "\n",
    "You are a professional robber planning to rob houses along a street. Each house has a certain amount of money stashed. All houses at this place are arranged in a circle. That means the first house is the neighbor of the last one. Meanwhile, adjacent houses have a security system connected, and it will automatically contact the police if two adjacent houses were broken into on the same night.\n",
    "\n",
    "Given a list of non-negative integers nums representing the amount of money of each house, return the maximum amount of money you can rob tonight without alerting the police."
   ]
  },
  {
   "cell_type": "markdown",
   "metadata": {},
   "source": [
    "### Solution\n",
    "It is similar to the House Robber I. The difference is to compute maximum profit of two arrays: nums[:-1] and nums[1:], which means that with first house or with the last house."
   ]
  },
  {
   "cell_type": "code",
   "execution_count": null,
   "metadata": {},
   "outputs": [],
   "source": [
    "class Solution:\n",
    "    def rob(self, nums: List[int]) -> int:\n",
    "        return max(self.profit(nums[:-1]),self.profit(nums[1:])) if len(nums) != 1 else nums[0]\n",
    "\n",
    "    def profit(self, nums: List[int]) -> int:\n",
    "        n = len(nums)\n",
    "        dp = [0] * (n+1)\n",
    "        if n <= 2: return max(nums)\n",
    "        dp[1], dp[2] = nums[0], nums[1]\n",
    "        for i in range(2,n):\n",
    "            dp[i+1] = max(dp[i-1],dp[i-2])+nums[i]\n",
    "\n",
    "        return max(dp[-1],dp[-2])"
   ]
  },
  {
   "cell_type": "code",
   "execution_count": null,
   "metadata": {},
   "outputs": [],
   "source": []
  },
  {
   "cell_type": "code",
   "execution_count": null,
   "metadata": {},
   "outputs": [],
   "source": [
    "## Another solution\n",
    "class Solution:\n",
    "    def rob(self, nums: List[int]) -> int:\n",
    "        def helper(nums):\n",
    "            curr, prev = 0, 0\n",
    "            for num in nums:\n",
    "                curr, prev = max(prev+num,curr), curr\n",
    "            return curr\n",
    "        return max(helper(nums[:-1]),helper(nums[1:])) if len(nums) != 1 else nums[0]"
   ]
  }
 ],
 "metadata": {
  "kernelspec": {
   "display_name": "Python 3",
   "language": "python",
   "name": "python3"
  },
  "language_info": {
   "codemirror_mode": {
    "name": "ipython",
    "version": 3
   },
   "file_extension": ".py",
   "mimetype": "text/x-python",
   "name": "python",
   "nbconvert_exporter": "python",
   "pygments_lexer": "ipython3",
   "version": "3.7.3"
  }
 },
 "nbformat": 4,
 "nbformat_minor": 2
}
