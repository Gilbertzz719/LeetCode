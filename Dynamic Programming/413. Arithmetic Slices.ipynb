{
 "cells": [
  {
   "cell_type": "markdown",
   "metadata": {},
   "source": [
    "## Daily Challenge 2/18/2021"
   ]
  },
  {
   "cell_type": "markdown",
   "metadata": {},
   "source": [
    "**Link:** https://leetcode.com/problems/arithmetic-slices/\n",
    "\n",
    "A sequence of numbers is called arithmetic if it consists of at least three elements and if the difference between any two consecutive elements is the same."
   ]
  },
  {
   "cell_type": "markdown",
   "metadata": {},
   "source": [
    "### Solution\n",
    "\n",
    "1. The state transition function is dp[i] = dp[i-1]+1, if it is arithmetic\n",
    "2. The answer would be ans += dp[i]"
   ]
  },
  {
   "cell_type": "code",
   "execution_count": null,
   "metadata": {},
   "outputs": [],
   "source": [
    "class Solution:\n",
    "    def numberOfArithmeticSlices(self, A: List[int]) -> int:\n",
    "        ans = 0\n",
    "        n = len(A)\n",
    "        dp = [0] * n\n",
    "        for i in range(2,n):\n",
    "            if A[i] - A[i-1] == A[i-1] - A[i-2]:\n",
    "                dp[i] = dp[i-1] + 1\n",
    "                ans += dp[i]\n",
    "        return ans"
   ]
  }
 ],
 "metadata": {
  "kernelspec": {
   "display_name": "Python 3",
   "language": "python",
   "name": "python3"
  },
  "language_info": {
   "codemirror_mode": {
    "name": "ipython",
    "version": 3
   },
   "file_extension": ".py",
   "mimetype": "text/x-python",
   "name": "python",
   "nbconvert_exporter": "python",
   "pygments_lexer": "ipython3",
   "version": "3.7.3"
  }
 },
 "nbformat": 4,
 "nbformat_minor": 2
}
