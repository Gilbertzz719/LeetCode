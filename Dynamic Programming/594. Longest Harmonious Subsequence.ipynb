{
 "cells": [
  {
   "cell_type": "markdown",
   "metadata": {},
   "source": [
    "## Daily Challenge 2/11/2021"
   ]
  },
  {
   "cell_type": "markdown",
   "metadata": {},
   "source": [
    "**Link:** https://leetcode.com/problems/longest-harmonious-subsequence/\n",
    "\n",
    "We define a harmonious array as an array where the difference between its maximum value and its minimum value is exactly 1.\n",
    "\n",
    "Given an integer array nums, return the length of its longest harmonious subsequence among all its possible subsequences."
   ]
  },
  {
   "cell_type": "markdown",
   "metadata": {},
   "source": [
    "### Solution\n",
    "\n",
    "1. Create a hash table dict1\n",
    "2. Iterate tbe key of hash table, the length of harmonious array of the key if dict1[key]+dict[key+1]"
   ]
  },
  {
   "cell_type": "code",
   "execution_count": null,
   "metadata": {},
   "outputs": [],
   "source": [
    "class Solution:\n",
    "    def findLHS(self, nums: List[int]) -> int:\n",
    "        dict1 = collections.Counter(nums)\n",
    "        res = 0\n",
    "        for k,v in dict1.items():\n",
    "            if k+1 in dict1:\n",
    "                res = max(res,dict1[k]+dict1[k+1])\n",
    "\n",
    "        return res"
   ]
  }
 ],
 "metadata": {
  "kernelspec": {
   "display_name": "Python 3",
   "language": "python",
   "name": "python3"
  },
  "language_info": {
   "codemirror_mode": {
    "name": "ipython",
    "version": 3
   },
   "file_extension": ".py",
   "mimetype": "text/x-python",
   "name": "python",
   "nbconvert_exporter": "python",
   "pygments_lexer": "ipython3",
   "version": "3.7.3"
  }
 },
 "nbformat": 4,
 "nbformat_minor": 2
}
