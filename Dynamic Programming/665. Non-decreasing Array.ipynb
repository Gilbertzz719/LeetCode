{
 "cells": [
  {
   "cell_type": "markdown",
   "metadata": {},
   "source": [
    "## Daily Challenge 2/7/2021"
   ]
  },
  {
   "cell_type": "markdown",
   "metadata": {},
   "source": [
    "**Link** https://leetcode.com/problems/non-decreasing-array/\n",
    "\n",
    "Given an array nums with n integers, your task is to check if it could become non-decreasing by modifying at most one element.\n",
    "\n",
    "We define an array is non-decreasing if nums[i] <= nums[i + 1] holds for every i (0-based) such that (0 <= i <= n - 2)."
   ]
  },
  {
   "cell_type": "markdown",
   "metadata": {},
   "source": [
    "### Solution\n",
    "In this cases, we iterate the whole array. If the nums[i] < nums[i-1], then k +=1. Now let's revise nums[i-1]. If nums[i]>nums[i-2], we just need to revise nums[i-1] = nums[i] to hold the non-decreasing property. Otherwise, let nums[i] = nums[i-1]."
   ]
  },
  {
   "cell_type": "code",
   "execution_count": null,
   "metadata": {},
   "outputs": [],
   "source": [
    "class Solution:\n",
    "    def checkPossibility(self, nums: List[int]) -> bool:\n",
    "        k = 0\n",
    "        for i in range(1,len(nums)):\n",
    "            if nums[i] < nums[i-1]:\n",
    "                k += 1\n",
    "                if i == 1 or nums[i] >= nums[i-2]:\n",
    "                    nums[i-1] = nums[i]\n",
    "                else:\n",
    "                    nums[i] = nums[i-1]\n",
    "            if k > 1:\n",
    "                return False            \n",
    "        return True"
   ]
  }
 ],
 "metadata": {
  "kernelspec": {
   "display_name": "Python 3",
   "language": "python",
   "name": "python3"
  },
  "language_info": {
   "codemirror_mode": {
    "name": "ipython",
    "version": 3
   },
   "file_extension": ".py",
   "mimetype": "text/x-python",
   "name": "python",
   "nbconvert_exporter": "python",
   "pygments_lexer": "ipython3",
   "version": "3.7.3"
  }
 },
 "nbformat": 4,
 "nbformat_minor": 2
}
