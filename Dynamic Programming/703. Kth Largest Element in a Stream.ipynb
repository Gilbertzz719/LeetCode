{
 "cells": [
  {
   "cell_type": "markdown",
   "metadata": {},
   "source": [
    "## Daily Challenge 2/10/2021"
   ]
  },
  {
   "cell_type": "markdown",
   "metadata": {},
   "source": [
    "**Link:** https://leetcode.com/problems/kth-largest-element-in-a-stream/\n",
    "\n",
    "Design a class to find the kth largest element in a stream. Note that it is the kth largest element in the sorted order, not the kth distinct element.\n",
    "\n",
    "Implement KthLargest class:\n",
    "\n",
    "1. KthLargest(int k, int[] nums) Initializes the object with the integer k and the stream of integers nums.\n",
    "2. int add(int val) Returns the element representing the kth largest element in the stream."
   ]
  },
  {
   "cell_type": "markdown",
   "metadata": {},
   "source": [
    "### Solution\n",
    "\n",
    "Create a heap to store k largest elements"
   ]
  },
  {
   "cell_type": "code",
   "execution_count": null,
   "metadata": {},
   "outputs": [],
   "source": [
    "class KthLargest:\n",
    "\n",
    "    def __init__(self, k: int, nums: List[int]):\n",
    "        self.heap = []\n",
    "        self.k = k\n",
    "        for num in nums:\n",
    "            heapq.heappush(self.heap,num)\n",
    "            if len(self.heap) > k:\n",
    "                heapq.heappop(self.heap)\n",
    "\n",
    "    def add(self, val: int) -> int:\n",
    "        heapq.heappush(self.heap,val)\n",
    "        if len(self.heap)>self.k:\n",
    "            heapq.heappop(self.heap)\n",
    "        return self.heap[0]"
   ]
  }
 ],
 "metadata": {
  "kernelspec": {
   "display_name": "Python 3",
   "language": "python",
   "name": "python3"
  },
  "language_info": {
   "codemirror_mode": {
    "name": "ipython",
    "version": 3
   },
   "file_extension": ".py",
   "mimetype": "text/x-python",
   "name": "python",
   "nbconvert_exporter": "python",
   "pygments_lexer": "ipython3",
   "version": "3.7.3"
  }
 },
 "nbformat": 4,
 "nbformat_minor": 2
}
