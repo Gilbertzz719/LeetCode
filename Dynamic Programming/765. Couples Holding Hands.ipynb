{
 "cells": [
  {
   "cell_type": "markdown",
   "metadata": {},
   "source": [
    "## Daily Challenge 2/14/2021"
   ]
  },
  {
   "cell_type": "markdown",
   "metadata": {},
   "source": [
    "**Link:** https://leetcode.com/problems/couples-holding-hands/\n",
    "\n",
    "N couples sit in 2N seats arranged in a row and want to hold hands. We want to know the minimum number of swaps so that every couple is sitting side by side. A swap consists of choosing any two people, then they stand up and switch seats.\n",
    "\n",
    "The people and seats are represented by an integer from 0 to 2N-1, the couples are numbered in order, the first couple being (0, 1), the second couple being (2, 3), and so on with the last couple being (2N-2, 2N-1).\n",
    "\n",
    "The couples' initial seating is given by row[i] being the value of the person who is initially sitting in the i-th seat."
   ]
  },
  {
   "cell_type": "markdown",
   "metadata": {},
   "source": [
    "### Solution\n",
    "\n",
    "Iterate the row, if row[i] == row[i+1] ^ 1, then the couples are done. Otherwise, iterate the rest to find row[i] == row[j] ^ 1, then exchange row[i+1] and row[j]"
   ]
  },
  {
   "cell_type": "code",
   "execution_count": null,
   "metadata": {},
   "outputs": [],
   "source": [
    "class Solution:\n",
    "    def minSwapsCouples(self, row: List[int]) -> int:\n",
    "        n = len(row)\n",
    "        res = 0\n",
    "        for i in range(0, n - 1, 2):\n",
    "            if row[i] == row[i + 1] ^ 1:\n",
    "                continue\n",
    "            for j in range(i + 1, n):\n",
    "                if row[i] == row[j] ^ 1:\n",
    "                    row[i + 1], row[j] = row[j], row[i + 1]\n",
    "            res += 1\n",
    "        return res"
   ]
  }
 ],
 "metadata": {
  "kernelspec": {
   "display_name": "Python 3",
   "language": "python",
   "name": "python3"
  },
  "language_info": {
   "codemirror_mode": {
    "name": "ipython",
    "version": 3
   },
   "file_extension": ".py",
   "mimetype": "text/x-python",
   "name": "python",
   "nbconvert_exporter": "python",
   "pygments_lexer": "ipython3",
   "version": "3.7.3"
  }
 },
 "nbformat": 4,
 "nbformat_minor": 2
}
