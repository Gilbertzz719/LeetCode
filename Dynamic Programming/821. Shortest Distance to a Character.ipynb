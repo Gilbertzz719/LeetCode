{
 "cells": [
  {
   "cell_type": "markdown",
   "metadata": {},
   "source": [
    "## Daily Challenge 2/7/2021"
   ]
  },
  {
   "cell_type": "markdown",
   "metadata": {},
   "source": [
    "**Link** : https://leetcode.com/problems/shortest-distance-to-a-character/\n",
    "\n",
    "Given a string s and a character c that occurs in s, return an array of integers answer where answer.length == s.length and answer[i] is the distance from index i to the closest occurrence of character c in s.\n",
    "\n",
    "The distance between two indices i and j is abs(i - j), where abs is the absolute value function."
   ]
  },
  {
   "cell_type": "markdown",
   "metadata": {},
   "source": [
    "## Solution\n",
    "\n",
    "We can create two arrays to record the distance. For the first array, we start from the first element and record the distance of s[i] and c in order. For the second array, we start from the last element, compute the distance of s[i] and c in reverse order. Then record the minimum of the first array and the second array."
   ]
  },
  {
   "cell_type": "code",
   "execution_count": null,
   "metadata": {},
   "outputs": [],
   "source": [
    "class Solution:\n",
    "    def shortestToChar(self, s: str, c: str) -> List[int]:\n",
    "        forward = []\n",
    "        index = -float('inf')\n",
    "        for i, v in enumerate(s):\n",
    "            if v == c:\n",
    "                index = i\n",
    "            forward.append(i-index)\n",
    "\n",
    "        index = float('inf')\n",
    "        for i in range(len(s)-1,-1,-1):\n",
    "            if s[i] == c:\n",
    "                index = i\n",
    "            forward[i] = min(forward[i],index-i)\n",
    "\n",
    "        return forward"
   ]
  }
 ],
 "metadata": {
  "kernelspec": {
   "display_name": "Python 3",
   "language": "python",
   "name": "python3"
  },
  "language_info": {
   "codemirror_mode": {
    "name": "ipython",
    "version": 3
   },
   "file_extension": ".py",
   "mimetype": "text/x-python",
   "name": "python",
   "nbconvert_exporter": "python",
   "pygments_lexer": "ipython3",
   "version": "3.7.3"
  }
 },
 "nbformat": 4,
 "nbformat_minor": 2
}
