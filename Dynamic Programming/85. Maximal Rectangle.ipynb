{
 "cells": [
  {
   "cell_type": "markdown",
   "metadata": {},
   "source": [
    "## Daily Challenge 2/12/2021"
   ]
  },
  {
   "cell_type": "markdown",
   "metadata": {},
   "source": [
    "**Link:** https://leetcode.com/problems/maximal-rectangle/\n",
    "\n",
    "Given a rows x cols binary matrix filled with 0's and 1's, find the largest rectangle containing only 1's and return its area."
   ]
  },
  {
   "cell_type": "markdown",
   "metadata": {},
   "source": [
    "### Solution\n",
    "\n",
    "1. Build a function to update the height of each submatrix\n",
    "2. Apply stack to iterate the area of each column"
   ]
  },
  {
   "cell_type": "code",
   "execution_count": null,
   "metadata": {},
   "outputs": [],
   "source": [
    "class Solution:\n",
    "    def maximalRectangle(self, matrix: List[List[str]]) -> int:\n",
    "        n = len(matrix)\n",
    "        if not n: return n\n",
    "        height = [0]*len(matrix[0])\n",
    "        res = 0\n",
    "        for i in range(n):\n",
    "            height = self.update_height(height, matrix[i])\n",
    "            res = max(res,self.maximalSubRect(height))\n",
    "        return res\n",
    "        \n",
    "    def maximalSubRect(self, height):\n",
    "        stack = []\n",
    "        height = [0]+height+[0]\n",
    "        res = 0\n",
    "        for i in range(len(height)):\n",
    "            while stack and height[stack[-1]] > height[i]:\n",
    "                res = max(res,height[stack.pop()]*(i-stack[-1]-1))\n",
    "            stack.append(i)\n",
    "        return res\n",
    "\n",
    "\n",
    "    def update_height(self, height,List):\n",
    "        for i in range(len(height)):\n",
    "            if List[i] == '0':\n",
    "                height[i] = 0\n",
    "            else:\n",
    "                height[i] += 1\n",
    "        return height"
   ]
  }
 ],
 "metadata": {
  "kernelspec": {
   "display_name": "Python 3",
   "language": "python",
   "name": "python3"
  },
  "language_info": {
   "codemirror_mode": {
    "name": "ipython",
    "version": 3
   },
   "file_extension": ".py",
   "mimetype": "text/x-python",
   "name": "python",
   "nbconvert_exporter": "python",
   "pygments_lexer": "ipython3",
   "version": "3.7.3"
  }
 },
 "nbformat": 4,
 "nbformat_minor": 2
}
