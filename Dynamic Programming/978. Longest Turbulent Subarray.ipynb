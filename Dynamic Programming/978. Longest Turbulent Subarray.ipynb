{
 "cells": [
  {
   "cell_type": "markdown",
   "metadata": {},
   "source": [
    "## Daily Challenge 2/8/2021"
   ]
  },
  {
   "cell_type": "markdown",
   "metadata": {},
   "source": [
    "**Link** https://leetcode.com/problems/longest-turbulent-subarray/\n",
    "\n",
    "Given an integer array arr, return the length of a maximum size turbulent subarray of arr.\n",
    "\n",
    "A subarray is turbulent if the comparison sign flips between each adjacent pair of elements in the subarray.\n",
    "\n",
    "More formally, a subarray [arr[i], arr[i + 1], ..., arr[j]] of arr is said to be turbulent if and only if:\n",
    "\n",
    "For i <= k < j:\n",
    "\n",
    "1. arr[k] > arr[k + 1] when k is odd \n",
    "2. arr[k] < arr[k + 1] when k is even\n",
    "\n",
    "\n",
    "Or, for i <= k < j:\n",
    "\n",
    "1. arr[k] > arr[k + 1] when k is even\n",
    "2. arr[k] < arr[k + 1] when k is odd."
   ]
  },
  {
   "cell_type": "markdown",
   "metadata": {},
   "source": [
    "### Solution\n",
    "We can apply dynamic programming to solve this problem. Recall dynamic programming in solving the longest subarray of increasing or decreasing array. We can set up two arrays to denote the longest increasing subarrary and decreseing subarray respectively. The state transition function would be:\n",
    "\n",
    "1. acs[i] = des[i-1] + 1, if arr[i-1] < arr[i]\n",
    "2. des[i] = acs[i-1] + 1, if arr[i-1] > arr[i]"
   ]
  },
  {
   "cell_type": "code",
   "execution_count": null,
   "metadata": {},
   "outputs": [],
   "source": [
    "class Solution:\n",
    "    def maxTurbulenceSize(self, arr: List[int]) -> int:\n",
    "        res = 1\n",
    "        n = len(arr)\n",
    "        asc = [1] * n\n",
    "        des = [1] * n\n",
    "        for i in range(1,n):\n",
    "            if arr[i-1] < arr[i]:\n",
    "                asc[i] = des[i-1] + 1\n",
    "            elif arr[i-1] > arr[i]:\n",
    "                des[i] = asc[i-1] + 1\n",
    "            res = max(res, max(asc[i],des[i]))\n",
    "            \n",
    "        return res"
   ]
  }
 ],
 "metadata": {
  "kernelspec": {
   "display_name": "Python 3",
   "language": "python",
   "name": "python3"
  },
  "language_info": {
   "codemirror_mode": {
    "name": "ipython",
    "version": 3
   },
   "file_extension": ".py",
   "mimetype": "text/x-python",
   "name": "python",
   "nbconvert_exporter": "python",
   "pygments_lexer": "ipython3",
   "version": "3.7.3"
  }
 },
 "nbformat": 4,
 "nbformat_minor": 2
}
