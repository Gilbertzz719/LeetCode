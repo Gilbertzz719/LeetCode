{
 "cells": [
  {
   "cell_type": "markdown",
   "metadata": {},
   "source": [
    "## Daily Challenge 2/12/2021"
   ]
  },
  {
   "cell_type": "markdown",
   "metadata": {},
   "source": [
    "**Link:** https://leetcode-cn.com/leetbook/read/bytedance-c01/eug83v/\n"
   ]
  },
  {
   "cell_type": "markdown",
   "metadata": {},
   "source": [
    "### Solution\n",
    "\n",
    "It is a dynamic programming problem. \n",
    "1. Create a matrix dp to record the dynamic programming\n",
    "2. The three mutation are related to $dp[i][j]+1$, $dp[i+1][j]+1$, $dp[i][j+1]+1$ if s1[i] != s2[j]. Ohterwise, $dp[i][j]$, $dp[i+1][j]+1$, $dp[i][j+1]+1$ if s1[i] == s2[j]."
   ]
  },
  {
   "cell_type": "code",
   "execution_count": null,
   "metadata": {},
   "outputs": [],
   "source": [
    "s1 , s2 = map(str,input().split(','))\n",
    "m, n = len(s1), len(s2)\n",
    "dp = [[0]*(m+1) for _ in range(n+1)]\n",
    "for i in range(1, m+1):\n",
    "    dp[0][i] = i\n",
    "for j in range(1, n+1):\n",
    "    dp[j][0] = j\n",
    "\n",
    "for i in range(n):\n",
    "    for j in range(m):\n",
    "        if s2[i] == s1[j]:\n",
    "            dp[i+1][j+1] = min(dp[i][j+1]+1,dp[i+1][j]+1,dp[i][j])\n",
    "        else:\n",
    "            dp[i+1][j+1] = min(dp[i][j],dp[i][j+1],dp[i+1][j])+1\n",
    "print(dp[-1][-1])\n"
   ]
  }
 ],
 "metadata": {
  "kernelspec": {
   "display_name": "Python 3",
   "language": "python",
   "name": "python3"
  },
  "language_info": {
   "codemirror_mode": {
    "name": "ipython",
    "version": 3
   },
   "file_extension": ".py",
   "mimetype": "text/x-python",
   "name": "python",
   "nbconvert_exporter": "python",
   "pygments_lexer": "ipython3",
   "version": "3.7.3"
  }
 },
 "nbformat": 4,
 "nbformat_minor": 2
}
