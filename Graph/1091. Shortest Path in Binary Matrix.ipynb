{
 "cells": [
  {
   "cell_type": "markdown",
   "metadata": {},
   "source": [
    "## Daily Challenge 2/13/2021"
   ]
  },
  {
   "cell_type": "markdown",
   "metadata": {},
   "source": [
    "**Link:** https://leetcode.com/problems/shortest-path-in-binary-matrix/\n",
    "\n",
    "In an N by N square grid, each cell is either empty (0) or blocked (1).\n",
    "\n",
    "A clear path from top-left to bottom-right has length k if and only if it is composed of cells C_1, C_2, ..., C_k such that:\n",
    "\n",
    "Adjacent cells C_i and C_{i+1} are connected 8-directionally (ie., they are different and share an edge or corner)\n",
    "C_1 is at location (0, 0) (ie. has value grid[0][0])\n",
    "C_k is at location (N-1, N-1) (ie. has value grid[N-1][N-1])\n",
    "If C_i is located at (r, c), then grid[r][c] is empty (ie. grid[r][c] == 0).\n",
    "Return the length of the shortest such clear path from top-left to bottom-right.  If such a path does not exist, return -1."
   ]
  },
  {
   "cell_type": "markdown",
   "metadata": {},
   "source": [
    "### Solution\n",
    "\n",
    "1. Create a list to record the direction\n",
    "2. Use BFS and record the x-axis, y-axis and its path for each node."
   ]
  },
  {
   "cell_type": "code",
   "execution_count": null,
   "metadata": {},
   "outputs": [],
   "source": [
    "class Solution:\n",
    "    def shortestPathBinaryMatrix(self, grid: List[List[int]]) -> int:\n",
    "        n = len(grid)\n",
    "        if not grid or grid[0][0] == 1 or grid[n-1][n-1] == 1:\n",
    "            return -1\n",
    "        elif n <= 2:\n",
    "            return n\n",
    "        directions = [(-1,-1), (1,0), (0,1), (-1,0), (0,-1), (1,1), (1,-1), (-1,1)]\n",
    "        queue = [(0, 0, 1)]\n",
    "        grid[0][0] = 1\n",
    "        while queue:\n",
    "            i, j, path = queue.pop(0)           \n",
    "            for dx, dy in directions:\n",
    "                if i+dx == n-1 and j+dy == n-1:\n",
    "                    return path + 1\n",
    "                if 0 <= i+dx < n and 0 <= j+dy < n and grid[i+dx][j+dy] == 0:\n",
    "                    queue.append((i+dx, j+dy, path+1))\n",
    "                    grid[i+dx][j+dy] = 1                \n",
    "        return -1\n"
   ]
  }
 ],
 "metadata": {
  "kernelspec": {
   "display_name": "Python 3",
   "language": "python",
   "name": "python3"
  },
  "language_info": {
   "codemirror_mode": {
    "name": "ipython",
    "version": 3
   },
   "file_extension": ".py",
   "mimetype": "text/x-python",
   "name": "python",
   "nbconvert_exporter": "python",
   "pygments_lexer": "ipython3",
   "version": "3.7.3"
  }
 },
 "nbformat": 4,
 "nbformat_minor": 2
}
