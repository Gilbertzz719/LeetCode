{
 "cells": [
  {
   "cell_type": "markdown",
   "metadata": {},
   "source": [
    "## Daily Challenge 2/6/2021"
   ]
  },
  {
   "cell_type": "markdown",
   "metadata": {},
   "source": [
    "**Link:** https://leetcode.com/problems/surrounded-regions/\n",
    "\n",
    "Given a 2D board containing 'X' and 'O' (the letter O), capture all regions surrounded by 'X'.\n",
    "\n",
    "A region is captured by flipping all 'O's into 'X's in that surrounded region."
   ]
  },
  {
   "cell_type": "markdown",
   "metadata": {},
   "source": [
    "### Solution\n",
    "\n",
    "Note that there are three kind of elements in the graph:\n",
    "\n",
    "1. 'X'\n",
    "2. 'O' surrounded by 'X'\n",
    "3. 'O' not surrounded by 'X'\n",
    "\n",
    "For those 'O' on the boundary, they won't be replaced by 'X'. Thus what we gonna do is\n",
    "\n",
    "1. Search the 'O' on the boundary and 'O' connected to the 'O' on the boundary and label them by 'T'\n",
    "2. Replace the rest of 'O'\n",
    "\n",
    "To search those 'O', we can apply depth-first search"
   ]
  },
  {
   "cell_type": "code",
   "execution_count": null,
   "metadata": {},
   "outputs": [],
   "source": [
    "class Solution:\n",
    "    def solve(self, board: List[List[str]]) -> None:\n",
    "        \"\"\"\n",
    "        Do not return anything, modify board in-place instead.\n",
    "        \"\"\"\n",
    "        def dfs(x,y):\n",
    "            if not 0 <= x < n or not 0 <= y <m or board[x][y] != 'O':\n",
    "                return\n",
    "            board[x][y] = 'T'\n",
    "            dfs(x+1,y)\n",
    "            dfs(x-1,y)\n",
    "            dfs(x,y+1)\n",
    "            dfs(x,y-1)\n",
    "        \n",
    "        \n",
    "        if not board: return \n",
    "        n, m = len(board), len(board[0])\n",
    "        for i in range(n):\n",
    "            dfs(i,0)\n",
    "            dfs(i,m-1)\n",
    "        \n",
    "        for j in range(m-1):\n",
    "            dfs(0,j)\n",
    "            dfs(n-1,j)\n",
    "\n",
    "        for i in range(n):\n",
    "            for j in range(m):\n",
    "                if board[i][j] == 'T':\n",
    "                    board[i][j] = 'O'\n",
    "                elif board[i][j] == 'O':\n",
    "                    board[i][j] = 'X'"
   ]
  }
 ],
 "metadata": {
  "kernelspec": {
   "display_name": "Python 3",
   "language": "python",
   "name": "python3"
  },
  "language_info": {
   "codemirror_mode": {
    "name": "ipython",
    "version": 3
   },
   "file_extension": ".py",
   "mimetype": "text/x-python",
   "name": "python",
   "nbconvert_exporter": "python",
   "pygments_lexer": "ipython3",
   "version": "3.7.3"
  }
 },
 "nbformat": 4,
 "nbformat_minor": 2
}
