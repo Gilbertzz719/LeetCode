{
 "cells": [
  {
   "cell_type": "markdown",
   "metadata": {},
   "source": [
    "## Daily Challenge 2/23"
   ]
  },
  {
   "cell_type": "markdown",
   "metadata": {},
   "source": [
    "**Link: ** https://leetcode.com/problems/search-a-2d-matrix-ii/\n",
    "\n",
    "Write an efficient algorithm that searches for a target value in an m x n integer matrix. The matrix has the following properties:\n",
    "\n",
    "1. Integers in each row are sorted in ascending from left to right.\n",
    "\n",
    "2. Integers in each column are sorted in ascending from top to bottom."
   ]
  },
  {
   "cell_type": "markdown",
   "metadata": {},
   "source": [
    "### Solution\n",
    "\n",
    "Start searching from the right bottom. If the element is larger than the target, move upside. If the element is smaller than the target, then move left. If they are the same, then return true."
   ]
  },
  {
   "cell_type": "code",
   "execution_count": null,
   "metadata": {},
   "outputs": [],
   "source": [
    "class Solution:\n",
    "    def searchMatrix(self, matrix: List[List[int]], target: int) -> bool:\n",
    "        if not matrix: return False\n",
    "        m, n = len(matrix), len(matrix[0])\n",
    "        row, col = m -1, 0\n",
    "        while row >= 0 and col < n:\n",
    "            if target > matrix[row][col]:\n",
    "                col += 1\n",
    "            elif target < matrix[row][col]:\n",
    "                row -= 1\n",
    "            else:\n",
    "                return True\n",
    "        return False\n",
    "        "
   ]
  }
 ],
 "metadata": {
  "kernelspec": {
   "display_name": "Python 3",
   "language": "python",
   "name": "python3"
  },
  "language_info": {
   "codemirror_mode": {
    "name": "ipython",
    "version": 3
   },
   "file_extension": ".py",
   "mimetype": "text/x-python",
   "name": "python",
   "nbconvert_exporter": "python",
   "pygments_lexer": "ipython3",
   "version": "3.7.3"
  }
 },
 "nbformat": 4,
 "nbformat_minor": 2
}
