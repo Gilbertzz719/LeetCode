{
 "cells": [
  {
   "cell_type": "markdown",
   "metadata": {},
   "source": [
    "## Daily Challenge 2/14/2021"
   ]
  },
  {
   "cell_type": "markdown",
   "metadata": {},
   "source": [
    "**Link:** https://leetcode.com/problems/is-graph-bipartite/\n",
    "\n",
    "here is an undirected graph with n nodes, where each node is numbered between 0 and n - 1. You are given a 2D array graph, where graph[u] is an array of nodes that node u is adjacent to. More formally, for each v in graph[u], there is an undirected edge between node u and node v. The graph has the following properties:\n",
    "\n",
    "There are no self-edges (graph[u] does not contain u).\n",
    "There are no parallel edges (graph[u] does not contain duplicate values).\n",
    "If v is in graph[u], then u is in graph[v] (the graph is undirected).\n",
    "The graph may not be connected, meaning there may be two nodes u and v such that there is no path between them.\n",
    "A graph is bipartite if the nodes can be partitioned into two independent sets A and B such that every edge in the graph connects a node in set A and a node in set B.\n",
    "\n",
    "Return true if and only if it is bipartite."
   ]
  },
  {
   "cell_type": "markdown",
   "metadata": {},
   "source": [
    "### Solution\n",
    "\n",
    "1. Create a list to record the color of each node\n",
    "2. Iterate the node list. If the node is uncolored, make it white. If its adjacent is colored and its color is the same as the node, then return False"
   ]
  },
  {
   "cell_type": "code",
   "execution_count": null,
   "metadata": {},
   "outputs": [],
   "source": [
    "class Solution:\n",
    "    def isBipartite(self, graph: List[List[int]]) -> bool:\n",
    "        n = len(graph)\n",
    "        uncolored, white , black = 0, 1, 2\n",
    "        colors = [uncolored] * n\n",
    "        \n",
    "        for i in range(n):\n",
    "            if colors[i] == uncolored:\n",
    "                q = [i]\n",
    "                colors[i] = white\n",
    "                while q:\n",
    "                    node = q.pop(0)\n",
    "                    c = (black if colors[node] == white else white )\n",
    "                    for adjacent in graph[node]:\n",
    "                        if colors[adjacent] == uncolored:\n",
    "                            q.append(adjacent)\n",
    "                            colors[adjacent] = c\n",
    "                        elif colors[adjacent] != c:\n",
    "                            return False               \n",
    "                    \n",
    "        return True"
   ]
  }
 ],
 "metadata": {
  "kernelspec": {
   "display_name": "Python 3",
   "language": "python",
   "name": "python3"
  },
  "language_info": {
   "codemirror_mode": {
    "name": "ipython",
    "version": 3
   },
   "file_extension": ".py",
   "mimetype": "text/x-python",
   "name": "python",
   "nbconvert_exporter": "python",
   "pygments_lexer": "ipython3",
   "version": "3.7.3"
  }
 },
 "nbformat": 4,
 "nbformat_minor": 2
}
