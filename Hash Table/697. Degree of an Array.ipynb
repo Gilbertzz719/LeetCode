{
 "cells": [
  {
   "cell_type": "markdown",
   "metadata": {},
   "source": [
    "## Daily Challenge 2/20/2021"
   ]
  },
  {
   "cell_type": "markdown",
   "metadata": {},
   "source": [
    "**Link:** https://leetcode.com/problems/degree-of-an-array/\n",
    "\n",
    "Given a non-empty array of non-negative integers nums, the degree of this array is defined as the maximum frequency of any one of its elements.\n",
    "\n",
    "Your task is to find the smallest possible length of a (contiguous) subarray of nums, that has the same degree as nums."
   ]
  },
  {
   "cell_type": "markdown",
   "metadata": {},
   "source": [
    "### Solution\n",
    "\n",
    "1. Create a hash table to record the number of element and its left index and right index\n",
    "2. Go through each element and update the hash table\n",
    "3. Compute the minimum size of subarray"
   ]
  },
  {
   "cell_type": "code",
   "execution_count": null,
   "metadata": {},
   "outputs": [],
   "source": [
    "class Solution:\n",
    "    def findShortestSubArray(self, nums: List[int]) -> int:\n",
    "        dicts = dict()\n",
    "        for i, num in enumerate(nums):\n",
    "            if num not in dicts:\n",
    "                dicts[num] = [1, i, i]\n",
    "            else:\n",
    "                dicts[num][0] += 1\n",
    "                dicts[num][2] = i\n",
    "\n",
    "        res = maxnum = 0\n",
    "        for n, start, end in dicts.values():\n",
    "            if n > maxnum :\n",
    "                maxnum = n\n",
    "                res = end - start + 1\n",
    "            elif n == maxnum:\n",
    "                if res > end-start + 1:\n",
    "                    res = end - start +1\n",
    "\n",
    "        return res"
   ]
  }
 ],
 "metadata": {
  "kernelspec": {
   "display_name": "Python 3",
   "language": "python",
   "name": "python3"
  },
  "language_info": {
   "codemirror_mode": {
    "name": "ipython",
    "version": 3
   },
   "file_extension": ".py",
   "mimetype": "text/x-python",
   "name": "python",
   "nbconvert_exporter": "python",
   "pygments_lexer": "ipython3",
   "version": "3.7.3"
  }
 },
 "nbformat": 4,
 "nbformat_minor": 2
}
