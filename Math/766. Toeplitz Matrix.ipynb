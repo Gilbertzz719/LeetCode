{
 "cells": [
  {
   "cell_type": "markdown",
   "metadata": {},
   "source": [
    "## Daily Challenge 2/22/2021"
   ]
  },
  {
   "cell_type": "markdown",
   "metadata": {},
   "source": [
    "**Link:** https://leetcode.com/problems/toeplitz-matrix/\n",
    "\n",
    "Given an m x n matrix, return true if the matrix is Toeplitz. Otherwise, return false.\n",
    "\n",
    "A matrix is Toeplitz if every diagonal from top-left to bottom-right has the same elements."
   ]
  },
  {
   "cell_type": "code",
   "execution_count": null,
   "metadata": {},
   "outputs": [],
   "source": [
    "class Solution:\n",
    "    def isToeplitzMatrix(self, matrix: List[List[int]]) -> bool:\n",
    "        n=len(matrix)\n",
    "        m=len(matrix[0])\n",
    "        for i in range(n):\n",
    "            for j in range(m):\n",
    "                if i-1>=0 and j-1>=0:\n",
    "                    if matrix[i][j]!=matrix[i-1][j-1]:\n",
    "                        return False\n",
    "        return True"
   ]
  }
 ],
 "metadata": {
  "kernelspec": {
   "display_name": "Python 3",
   "language": "python",
   "name": "python3"
  },
  "language_info": {
   "codemirror_mode": {
    "name": "ipython",
    "version": 3
   },
   "file_extension": ".py",
   "mimetype": "text/x-python",
   "name": "python",
   "nbconvert_exporter": "python",
   "pygments_lexer": "ipython3",
   "version": "3.7.3"
  }
 },
 "nbformat": 4,
 "nbformat_minor": 2
}
