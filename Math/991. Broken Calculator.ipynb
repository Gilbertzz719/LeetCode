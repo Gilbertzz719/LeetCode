{
 "cells": [
  {
   "cell_type": "markdown",
   "metadata": {},
   "source": [
    "## Daily Challenge 2/21/2021"
   ]
  },
  {
   "cell_type": "markdown",
   "metadata": {},
   "source": [
    "**Link:** https://leetcode.com/problems/broken-calculator/\n",
    "\n",
    "On a broken calculator that has a number showing on its display, we can perform two operations:\n",
    "\n",
    "Double: Multiply the number on the display by 2, or;\n",
    "Decrement: Subtract 1 from the number on the display.\n",
    "Initially, the calculator is displaying the number X.\n",
    "\n",
    "Return the minimum number of operations needed to display the number Y."
   ]
  },
  {
   "cell_type": "markdown",
   "metadata": {},
   "source": [
    "### Solution\n",
    "\n",
    "What we are trying to do is to make Y smaller than or equal to X, since the number of operations is fixed in this case. That is  equal to X - Y. And double operation is more efficient than subtract. So if Y is an even number, then we divide it by 2. if it is a odd number, then we add it by 1."
   ]
  },
  {
   "cell_type": "code",
   "execution_count": null,
   "metadata": {},
   "outputs": [],
   "source": [
    "class Solution:\n",
    "    def brokenCalc(self, X: int, Y: int) -> int:\n",
    "        res = 0\n",
    "        while Y > X:\n",
    "            res += 1\n",
    "            if Y % 2: Y += 1\n",
    "            else: Y = Y //2\n",
    "                \n",
    "        return res + X-Y"
   ]
  }
 ],
 "metadata": {
  "kernelspec": {
   "display_name": "Python 3",
   "language": "python",
   "name": "python3"
  },
  "language_info": {
   "codemirror_mode": {
    "name": "ipython",
    "version": 3
   },
   "file_extension": ".py",
   "mimetype": "text/x-python",
   "name": "python",
   "nbconvert_exporter": "python",
   "pygments_lexer": "ipython3",
   "version": "3.7.3"
  }
 },
 "nbformat": 4,
 "nbformat_minor": 2
}
