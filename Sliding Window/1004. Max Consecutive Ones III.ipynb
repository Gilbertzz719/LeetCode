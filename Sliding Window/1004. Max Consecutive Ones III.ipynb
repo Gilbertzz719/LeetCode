{
 "cells": [
  {
   "cell_type": "markdown",
   "metadata": {},
   "source": [
    "## Daily Challenge 2/19/2021"
   ]
  },
  {
   "cell_type": "markdown",
   "metadata": {},
   "source": [
    "**Link:** https://leetcode.com/problems/max-consecutive-ones-iii/\n",
    "\n",
    "Given an array A of 0s and 1s, we may change up to K values from 0 to 1.\n",
    "\n",
    "Return the length of the longest (contiguous) subarray that contains only 1s. "
   ]
  },
  {
   "cell_type": "markdown",
   "metadata": {},
   "source": [
    "### Solution\n",
    "\n",
    "1. Set up two pointers, the sum of left and right respectively\n",
    "2. if rightsum - leftsum > K, the left pointer should move forward and update the leftsum by 1 - A[left]\n",
    "3. When go through the elements in A, update rightsum by 1 - A[right] "
   ]
  },
  {
   "cell_type": "code",
   "execution_count": null,
   "metadata": {},
   "outputs": [],
   "source": [
    "class Solution:\n",
    "    def longestOnes(self, A: List[int], K: int) -> int:\n",
    "        n = len(A)\n",
    "        l = lsum = rsum = 0\n",
    "        res = 0\n",
    "        for r in range(n):\n",
    "            rsum += 1 - A[r]\n",
    "            if lsum < rsum -K:\n",
    "                lsum += 1 - A[l]\n",
    "                l += 1\n",
    "            res = max(res, r - l+1)\n",
    "        return res"
   ]
  }
 ],
 "metadata": {
  "kernelspec": {
   "display_name": "Python 3",
   "language": "python",
   "name": "python3"
  },
  "language_info": {
   "codemirror_mode": {
    "name": "ipython",
    "version": 3
   },
   "file_extension": ".py",
   "mimetype": "text/x-python",
   "name": "python",
   "nbconvert_exporter": "python",
   "pygments_lexer": "ipython3",
   "version": "3.7.3"
  }
 },
 "nbformat": 4,
 "nbformat_minor": 2
}
