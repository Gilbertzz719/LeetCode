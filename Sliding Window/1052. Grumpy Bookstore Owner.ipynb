{
 "cells": [
  {
   "cell_type": "markdown",
   "metadata": {},
   "source": [
    "## Daily Challenge 2/23/2021"
   ]
  },
  {
   "cell_type": "markdown",
   "metadata": {},
   "source": [
    "**Link:** https://leetcode.com/problems/grumpy-bookstore-owner/\n",
    "\n",
    "Today, the bookstore owner has a store open for customers.length minutes.  Every minute, some number of customers (customers[i]) enter the store, and all those customers leave after the end of that minute.\n",
    "\n",
    "On some minutes, the bookstore owner is grumpy.  If the bookstore owner is grumpy on the i-th minute, grumpy[i] = 1, otherwise grumpy[i] = 0.  When the bookstore owner is grumpy, the customers of that minute are not satisfied, otherwise they are satisfied.\n",
    "\n",
    "The bookstore owner knows a secret technique to keep themselves not grumpy for X minutes straight, but can only use it once.\n",
    "\n",
    "Return the maximum number of customers that can be satisfied throughout the day."
   ]
  },
  {
   "cell_type": "markdown",
   "metadata": {},
   "source": [
    "### Solution\n",
    "\n",
    "We divide the result into two parts. The first part is the sum of element where grumpy[i] = 0. The second part is the increasing number of customers in the sliding windows with length X. The updating function is $\\text{inc}_i$ = $\\text{inc}_{i-1}$ + customers[i] * grumpy[i] - customers[i-X] * grumpy [i-X]"
   ]
  },
  {
   "cell_type": "code",
   "execution_count": null,
   "metadata": {},
   "outputs": [],
   "source": [
    "class Solution:\n",
    "    def maxSatisfied(self, customers: List[int], grumpy: List[int], X: int) -> int:\n",
    "        n = len(customers)\n",
    "        res = 0\n",
    "        for i in range(n):\n",
    "            res += customers[i] * (1 - grumpy[i])\n",
    "        maxinc = 0\n",
    "        for i in range(X):\n",
    "            maxinc += customers[i] * grumpy[i]\n",
    "        inc = maxinc\n",
    "        for i in range(X,n):\n",
    "            inc += customers[i]*grumpy[i] - customers[i-X] * grumpy[i-X]\n",
    "            maxinc = max(maxinc,inc)\n",
    "        return res + maxinc"
   ]
  }
 ],
 "metadata": {
  "kernelspec": {
   "display_name": "Python 3",
   "language": "python",
   "name": "python3"
  },
  "language_info": {
   "codemirror_mode": {
    "name": "ipython",
    "version": 3
   },
   "file_extension": ".py",
   "mimetype": "text/x-python",
   "name": "python",
   "nbconvert_exporter": "python",
   "pygments_lexer": "ipython3",
   "version": "3.7.3"
  }
 },
 "nbformat": 4,
 "nbformat_minor": 2
}
