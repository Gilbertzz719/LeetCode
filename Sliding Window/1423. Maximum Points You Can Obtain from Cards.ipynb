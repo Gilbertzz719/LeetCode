{
 "cells": [
  {
   "cell_type": "markdown",
   "metadata": {},
   "source": [
    "## Daily Challenge 2/6/2021"
   ]
  },
  {
   "cell_type": "markdown",
   "metadata": {},
   "source": [
    "**Link:** https://leetcode.com/problems/maximum-points-you-can-obtain-from-cards/\n",
    "\n",
    "There are several cards arranged in a row, and each card has an associated number of points The points are given in the integer array cardPoints.\n",
    "\n",
    "In one step, you can take one card from the beginning or from the end of the row. You have to take exactly k cards.\n",
    "\n",
    "Your score is the sum of the points of the cards you have taken.\n",
    "\n",
    "Given the integer array cardPoints and the integer k, return the maximum score you can obtain."
   ]
  },
  {
   "cell_type": "markdown",
   "metadata": {},
   "source": [
    "### Solution\n",
    "\n",
    "Sliding window fits this problem. Note that the length of the final result is $len(cardPoints) - k$ and its a consecutive subarray of cardPoints. "
   ]
  },
  {
   "cell_type": "code",
   "execution_count": null,
   "metadata": {},
   "outputs": [],
   "source": [
    "class Solution:\n",
    "    def maxScore(self, cardPoints: List[int], k: int) -> int:\n",
    "        n = len(cardPoints)\n",
    "        size = n - k\n",
    "        s = sum(cardPoints[:size])\n",
    "        res = s\n",
    "        for i in range(size, n):\n",
    "            s += cardPoints[i] - cardPoints[i-size]\n",
    "            res = min(res,s)\n",
    "            \n",
    "        return sum(cardPoints)-res"
   ]
  }
 ],
 "metadata": {
  "kernelspec": {
   "display_name": "Python 3",
   "language": "python",
   "name": "python3"
  },
  "language_info": {
   "codemirror_mode": {
    "name": "ipython",
    "version": 3
   },
   "file_extension": ".py",
   "mimetype": "text/x-python",
   "name": "python",
   "nbconvert_exporter": "python",
   "pygments_lexer": "ipython3",
   "version": "3.7.3"
  }
 },
 "nbformat": 4,
 "nbformat_minor": 2
}
