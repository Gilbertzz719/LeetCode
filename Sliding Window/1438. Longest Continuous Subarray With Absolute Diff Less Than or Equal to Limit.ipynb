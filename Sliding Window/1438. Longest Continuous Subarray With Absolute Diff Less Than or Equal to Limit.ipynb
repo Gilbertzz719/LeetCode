{
 "cells": [
  {
   "cell_type": "markdown",
   "metadata": {},
   "source": [
    "## Daily Challenge 2/21/2021"
   ]
  },
  {
   "cell_type": "markdown",
   "metadata": {},
   "source": [
    "**Link:** https://leetcode.com/problems/longest-continuous-subarray-with-absolute-diff-less-than-or-equal-to-limit/\n",
    "\n",
    "Given an array of integers nums and an integer limit, return the size of the longest non-empty subarray such that the absolute difference between any two elements of this subarray is less than or equal to limit."
   ]
  },
  {
   "cell_type": "markdown",
   "metadata": {},
   "source": [
    "### Solution\n",
    "\n",
    "Sliding windows + two queues\n",
    "\n",
    "1. Set up two pointers which point to the left side and right side of the sliding window\n",
    "2. Two queues record the maximum and minimum integer of the current sliding window."
   ]
  },
  {
   "cell_type": "code",
   "execution_count": null,
   "metadata": {},
   "outputs": [],
   "source": [
    "class Solution:\n",
    "    def longestSubarray(self, nums: List[int], limit: int) -> int:\n",
    "        n = len(nums)\n",
    "        qmax, qmin = collections.deque(), collections.deque()\n",
    "        left = right = res = 0\n",
    "\n",
    "        while right < n:\n",
    "            while qmax and qmax[-1] < nums[right]:\n",
    "                qmax.pop()\n",
    "            while qmin and qmin[-1] > nums[right]:\n",
    "                qmin.pop()\n",
    "            \n",
    "            qmax.append(nums[right])\n",
    "            qmin.append(nums[right])\n",
    "\n",
    "            while qmax and qmin and qmax[0] - qmin[0] > limit:\n",
    "                if nums[left] == qmin[0]:\n",
    "                    qmin.popleft()\n",
    "                if nums[left] == qmax[0]:\n",
    "                    qmax.popleft()\n",
    "                left += 1\n",
    "            \n",
    "            res = max(res, right - left + 1)\n",
    "            right += 1\n",
    "        return res"
   ]
  }
 ],
 "metadata": {
  "kernelspec": {
   "display_name": "Python 3",
   "language": "python",
   "name": "python3"
  },
  "language_info": {
   "codemirror_mode": {
    "name": "ipython",
    "version": 3
   },
   "file_extension": ".py",
   "mimetype": "text/x-python",
   "name": "python",
   "nbconvert_exporter": "python",
   "pygments_lexer": "ipython3",
   "version": "3.7.3"
  }
 },
 "nbformat": 4,
 "nbformat_minor": 2
}
