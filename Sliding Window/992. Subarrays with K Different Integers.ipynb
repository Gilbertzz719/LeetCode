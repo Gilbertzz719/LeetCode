{
 "cells": [
  {
   "cell_type": "markdown",
   "metadata": {},
   "source": [
    "## Daily Challenge 2/9/2021"
   ]
  },
  {
   "cell_type": "markdown",
   "metadata": {},
   "source": [
    "**Link:** https://leetcode.com/problems/subarrays-with-k-different-integers/\n",
    "\n",
    "Given an array A of positive integers, call a (contiguous, not necessarily distinct) subarray of A good if the number of different integers in that subarray is exactly K.\n",
    "\n",
    "(For example, $[1,2,3,1,2]$ has 3 different integers: 1, 2, and 3.)\n",
    "\n",
    "Return the number of good subarrays of A."
   ]
  },
  {
   "cell_type": "markdown",
   "metadata": {},
   "source": [
    "### Solution\n",
    "\n",
    "Let's first analyze the problem. Suppose we have two intervals $[i,k]$ and $[j,k]$ $i<j$, which the number of different integers of two subarray is exactly $K$. It's obvious that the number of different integers of $[l,j]$ is $K$ for any $l \\in [i,j] $. Thus, the key point is to find the maximum interval that contains $K$ and $K-1$ different integers given $k$. When we advance $[i,k]$ to $[i,k+1]$, the number of different integers would either unchange or increase. "
   ]
  },
  {
   "cell_type": "code",
   "execution_count": null,
   "metadata": {},
   "outputs": [],
   "source": [
    "class Solution:\n",
    "    def subarraysWithKDistinct(self, A: List[int], K: int) -> int:\n",
    "        n = len(A)\n",
    "        dict1 = collections.Counter()\n",
    "        dict2 = collections.Counter()\n",
    "        left1, left2 = 0, 0\n",
    "        res = 0\n",
    "        sum1, sum2 = 0, 0\n",
    "        for right, num in enumerate(A):\n",
    "            if dict1[num] == 0:\n",
    "                sum1 += 1\n",
    "            dict1[num] += 1\n",
    "            if dict2[num] == 0:\n",
    "                sum2 += 1\n",
    "            dict2[num] += 1\n",
    "            ### Largest one\n",
    "            while sum1 > K:\n",
    "                dict1[A[left1]] -= 1\n",
    "                if dict1[A[left1]] == 0:\n",
    "                    sum1 -= 1\n",
    "                left1 += 1\n",
    "            \n",
    "            while sum2 > K - 1:\n",
    "                dict2[A[left2]] -= 1\n",
    "                if dict2[A[left2]] == 0:\n",
    "                    sum2 -= 1\n",
    "                left2 += 1\n",
    "\n",
    "            res += left2 - left1\n",
    "\n",
    "        return res"
   ]
  }
 ],
 "metadata": {
  "kernelspec": {
   "display_name": "Python 3",
   "language": "python",
   "name": "python3"
  },
  "language_info": {
   "codemirror_mode": {
    "name": "ipython",
    "version": 3
   },
   "file_extension": ".py",
   "mimetype": "text/x-python",
   "name": "python",
   "nbconvert_exporter": "python",
   "pygments_lexer": "ipython3",
   "version": "3.7.3"
  }
 },
 "nbformat": 4,
 "nbformat_minor": 2
}
