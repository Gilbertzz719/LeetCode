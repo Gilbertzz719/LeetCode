{
 "cells": [
  {
   "cell_type": "markdown",
   "metadata": {},
   "source": [
    "## Daily Challenge 2/18/2021"
   ]
  },
  {
   "cell_type": "markdown",
   "metadata": {},
   "source": [
    "**Link:** https://leetcode.com/problems/minimum-number-of-k-consecutive-bit-flips/\n",
    "\n",
    "In an array A containing only 0s and 1s, a K-bit flip consists of choosing a (contiguous) subarray of length K and simultaneously changing every 0 in the subarray to 1, and every 1 in the subarray to 0.\n",
    "\n",
    "Return the minimum number of K-bit flips required so that there is no 0 in the array.  If it is not possible, return -1."
   ]
  },
  {
   "cell_type": "code",
   "execution_count": null,
   "metadata": {},
   "outputs": [],
   "source": [
    "class Solution:\n",
    "    def minKBitFlips(self, A: List[int], K: int) -> int:\n",
    "        N = len(A)\n",
    "        q = collections.deque()\n",
    "        res = 0\n",
    "        for i in range(N):\n",
    "            if q and i >= q[0] + K:\n",
    "                q.popleft()\n",
    "            if len(q) % 2 == A[i]:\n",
    "                if i +  K > N: return -1\n",
    "                q.append(i)\n",
    "                res += 1\n",
    "        return res"
   ]
  }
 ],
 "metadata": {
  "kernelspec": {
   "display_name": "Python 3",
   "language": "python",
   "name": "python3"
  },
  "language_info": {
   "codemirror_mode": {
    "name": "ipython",
    "version": 3
   },
   "file_extension": ".py",
   "mimetype": "text/x-python",
   "name": "python",
   "nbconvert_exporter": "python",
   "pygments_lexer": "ipython3",
   "version": "3.7.3"
  }
 },
 "nbformat": 4,
 "nbformat_minor": 2
}
