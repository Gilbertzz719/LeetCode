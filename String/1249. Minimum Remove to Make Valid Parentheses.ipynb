{
 "cells": [
  {
   "cell_type": "markdown",
   "metadata": {},
   "source": [
    "## Daily Challenge 2/19/2021"
   ]
  },
  {
   "cell_type": "markdown",
   "metadata": {},
   "source": [
    "**Link:** https://leetcode.com/problems/minimum-remove-to-make-valid-parentheses/\n",
    "\n",
    "Given a string s of '(' , ')' and lowercase English characters. \n",
    "\n",
    "Your task is to remove the minimum number of parentheses ( '(' or ')', in any positions ) so that the resulting parentheses string is valid and return any valid string.\n",
    "\n",
    "Formally, a parentheses string is valid if and only if:\n",
    "\n",
    "It is the empty string, contains only lowercase characters, or\n",
    "It can be written as AB (A concatenated with B), where A and B are valid strings, or\n",
    "It can be written as (A), where A is a valid string."
   ]
  },
  {
   "cell_type": "markdown",
   "metadata": {},
   "source": [
    "### Solution\n",
    "\n",
    "1. Create a stack\n",
    "2. Go through the element in s and record the element which is '(' or ')'.\n",
    "3. If the stack is not empty and the new element is ')', then pop the last element. If the element is '(', then add to the stack.\n",
    "4. Remove all the element in stack from s.\n",
    "5. Join the string s"
   ]
  },
  {
   "cell_type": "code",
   "execution_count": null,
   "metadata": {},
   "outputs": [],
   "source": [
    "class Solution:\n",
    "    def minRemoveToMakeValid(self, s: str) -> str:\n",
    "        stack = []\n",
    "        s = list(s)\n",
    "        for i in range(len(s)):\n",
    "            if s[i] not in  '()':\n",
    "                continue\n",
    "            elif s[i] == '(':\n",
    "                stack.append(i)\n",
    "            elif s[i] == ')':\n",
    "                if stack:\n",
    "                    stack.pop()\n",
    "                else:\n",
    "                    s[i] = ''\n",
    "            \n",
    "        while stack:\n",
    "            s[stack.pop()] = ''\n",
    "        return ''.join(s)"
   ]
  }
 ],
 "metadata": {
  "kernelspec": {
   "display_name": "Python 3",
   "language": "python",
   "name": "python3"
  },
  "language_info": {
   "codemirror_mode": {
    "name": "ipython",
    "version": 3
   },
   "file_extension": ".py",
   "mimetype": "text/x-python",
   "name": "python",
   "nbconvert_exporter": "python",
   "pygments_lexer": "ipython3",
   "version": "3.7.3"
  }
 },
 "nbformat": 4,
 "nbformat_minor": 2
}
