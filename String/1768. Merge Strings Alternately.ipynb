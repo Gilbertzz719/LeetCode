{
 "cells": [
  {
   "cell_type": "markdown",
   "metadata": {},
   "source": [
    "## Daily Challenge 2/20/2021"
   ]
  },
  {
   "cell_type": "markdown",
   "metadata": {},
   "source": [
    "**Link:** https://leetcode.com/contest/weekly-contest-229/problems/merge-strings-alternately/\n",
    "\n",
    "You are given two strings word1 and word2. Merge the strings by adding letters in alternating order, starting with word1. If a string is longer than the other, append the additional letters onto the end of the merged string.\n",
    "\n",
    "Return the merged string."
   ]
  },
  {
   "cell_type": "code",
   "execution_count": null,
   "metadata": {},
   "outputs": [],
   "source": [
    "class Solution:\n",
    "    def mergeAlternately(self, word1: str, word2: str) -> str:\n",
    "        i, j = 0, 0\n",
    "        n1, n2 = len(word1),len(word2)\n",
    "        res = []\n",
    "        flag = 1\n",
    "        while i < n1 and j < n2:\n",
    "            if flag == 1:\n",
    "                res.append(word1[i])\n",
    "                flag = 0\n",
    "                i += 1\n",
    "            else:\n",
    "                res.append(word2[j])\n",
    "                flag = 1\n",
    "                j += 1\n",
    "                \n",
    "        if i != n1:\n",
    "            for l in range(i,n1):\n",
    "                res.append(word1[l])\n",
    "        else:\n",
    "            for l in range(j,n2):\n",
    "                res.append(word2[l])\n",
    "        return ''.join(res)"
   ]
  }
 ],
 "metadata": {
  "kernelspec": {
   "display_name": "Python 3",
   "language": "python",
   "name": "python3"
  },
  "language_info": {
   "codemirror_mode": {
    "name": "ipython",
    "version": 3
   },
   "file_extension": ".py",
   "mimetype": "text/x-python",
   "name": "python",
   "nbconvert_exporter": "python",
   "pygments_lexer": "ipython3",
   "version": "3.7.3"
  }
 },
 "nbformat": 4,
 "nbformat_minor": 2
}
