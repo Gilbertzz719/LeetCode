{
 "cells": [
  {
   "cell_type": "markdown",
   "metadata": {},
   "source": [
    "## Daily Challenge 2/6/2021"
   ]
  },
  {
   "cell_type": "markdown",
   "metadata": {},
   "source": [
    "**Link:** https://leetcode.com/problems/simplify-path/\n",
    "\n",
    "Given a string path, which is an absolute path (starting with a slash '/') to a file or directory in a Unix-style file system, convert it to the simplified canonical path.\n",
    "\n",
    "In a Unix-style file system, a period '.' refers to the current directory, a double period '..' refers to the directory up a level, and any multiple consecutive slashes (i.e. '//') are treated as a single slash '/'. For this problem, any other format of periods such as '...' are treated as file/directory names.\n",
    "\n",
    "The canonical path should have the following format:\n",
    "\n",
    "The path starts with a single slash '/'.\n",
    "Any two directories are separated by a single slash '/'.\n",
    "The path does not end with a trailing '/'.\n",
    "The path only contains the directories on the path from the root directory to the target file or directory (i.e., no period '.' or double period '..')\n",
    "Return the simplified canonical path."
   ]
  },
  {
   "cell_type": "markdown",
   "metadata": {},
   "source": [
    "### Solution\n",
    "\n",
    "1. Split the path by '/'\n",
    "2. Create a stack to store those charaters"
   ]
  },
  {
   "cell_type": "code",
   "execution_count": null,
   "metadata": {},
   "outputs": [],
   "source": [
    "class Solution:\n",
    "    def simplifyPath(self, path: str) -> str:\n",
    "        stack = []\n",
    "        path = path.split('/')\n",
    "        for char in path:\n",
    "            if char == '..':\n",
    "                if stack:\n",
    "                    stack.pop()\n",
    "            elif char and char != '.':\n",
    "                stack.append(char)\n",
    "\n",
    "        return '/'+'/'.join(stack)"
   ]
  }
 ],
 "metadata": {
  "kernelspec": {
   "display_name": "Python 3",
   "language": "python",
   "name": "python3"
  },
  "language_info": {
   "codemirror_mode": {
    "name": "ipython",
    "version": 3
   },
   "file_extension": ".py",
   "mimetype": "text/x-python",
   "name": "python",
   "nbconvert_exporter": "python",
   "pygments_lexer": "ipython3",
   "version": "3.7.3"
  }
 },
 "nbformat": 4,
 "nbformat_minor": 2
}
