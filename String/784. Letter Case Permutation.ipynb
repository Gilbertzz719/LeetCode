{
 "cells": [
  {
   "cell_type": "markdown",
   "metadata": {},
   "source": [
    "## Daily Challenge 2/16/2021"
   ]
  },
  {
   "cell_type": "markdown",
   "metadata": {},
   "source": [
    "**Link:** https://leetcode.com/problems/letter-case-permutation/\n",
    "\n",
    "\n",
    "Given a string S, we can transform every letter individually to be lowercase or uppercase to create another string.\n",
    "\n",
    "Return a list of all possible strings we could create. You can return the output in any order."
   ]
  },
  {
   "cell_type": "markdown",
   "metadata": {},
   "source": [
    "### Solution\n",
    "\n",
    "1. Create an array to record the letter\n",
    "2. Go through each element. If it is a digit, then choose this digit. If it is a letter, then append two cases: small and capital letter"
   ]
  },
  {
   "cell_type": "code",
   "execution_count": null,
   "metadata": {},
   "outputs": [],
   "source": [
    "class Solution:\n",
    "    def letterCasePermutation(self, S: str) -> List[str]:\n",
    "        components = [[]]\n",
    "        num = '0123456789'\n",
    "        for letter in S:\n",
    "            n = len(components)\n",
    "            if letter not in num:\n",
    "                for i in range(n):\n",
    "                    components.append(components[i][:])\n",
    "                    components[i].append(letter.lower())\n",
    "                    components[n+i].append(letter.upper())\n",
    "            else:\n",
    "                for i in range(n):\n",
    "                    components[i].append(letter)\n",
    "        \n",
    "        return [''.join(ans) for ans in components]\n",
    "            \n",
    "\n",
    "            "
   ]
  }
 ],
 "metadata": {
  "kernelspec": {
   "display_name": "Python 3",
   "language": "python",
   "name": "python3"
  },
  "language_info": {
   "codemirror_mode": {
    "name": "ipython",
    "version": 3
   },
   "file_extension": ".py",
   "mimetype": "text/x-python",
   "name": "python",
   "nbconvert_exporter": "python",
   "pygments_lexer": "ipython3",
   "version": "3.7.3"
  }
 },
 "nbformat": 4,
 "nbformat_minor": 2
}
