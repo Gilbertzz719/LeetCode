{
 "cells": [
  {
   "cell_type": "markdown",
   "metadata": {},
   "source": [
    "## Daily Challenge 2/12/2021"
   ]
  },
  {
   "cell_type": "markdown",
   "metadata": {},
   "source": [
    "**Link:** https://leetcode.com/problems/construct-binary-tree-from-preorder-and-inorder-traversal/\n",
    "\n",
    "Given preorder and inorder traversal of a tree, construct the binary tree."
   ]
  },
  {
   "cell_type": "markdown",
   "metadata": {},
   "source": [
    "### Solution\n",
    "\n",
    "Let's first analyze the components of preorder travelsal and inorder traversal. \n",
    "1. Preorder = [root, preorder traversal of left subtree, preorder traversal of right subtree]\n",
    "2. Inorder = [root, inorder traversal of left subtree, inorder traversal of right subtree]\n",
    "\n",
    "The idea of the solution is as follows:\n",
    "1. Create a hash table of index of each element in inorder traversal\n",
    "2. Locate the root of the inorder traversal.\n",
    "3. Update the length of left subtree and right subtree"
   ]
  },
  {
   "cell_type": "code",
   "execution_count": null,
   "metadata": {},
   "outputs": [],
   "source": [
    "class Solution:\n",
    "    def buildTree(self, preorder: List[int], inorder: List[int]) -> TreeNode:\n",
    "        def buildSubTree(preleft,preright,inleft,inright):\n",
    "            if preleft > preright: return None\n",
    "            preroot = preleft\n",
    "            inroot = index[preorder[preroot]]\n",
    "            root = TreeNode(preorder[preroot])\n",
    "            LeftSize = inroot - inleft\n",
    "            root.left = buildSubTree(preleft+1,preleft+LeftSize,inleft,inroot-1)\n",
    "            root.right = buildSubTree(preleft+LeftSize+1,preright,inroot+1,inright)\n",
    "            return root\n",
    "\n",
    "        n = len(preorder)\n",
    "        index = {element: i for i,element in enumerate(inorder)}\n",
    "        return buildSubTree(0,n-1,0,n-1)"
   ]
  }
 ],
 "metadata": {
  "kernelspec": {
   "display_name": "Python 3",
   "language": "python",
   "name": "python3"
  },
  "language_info": {
   "codemirror_mode": {
    "name": "ipython",
    "version": 3
   },
   "file_extension": ".py",
   "mimetype": "text/x-python",
   "name": "python",
   "nbconvert_exporter": "python",
   "pygments_lexer": "ipython3",
   "version": "3.7.3"
  }
 },
 "nbformat": 4,
 "nbformat_minor": 2
}
