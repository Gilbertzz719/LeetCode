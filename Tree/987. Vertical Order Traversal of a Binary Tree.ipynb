{
 "cells": [
  {
   "cell_type": "markdown",
   "metadata": {},
   "source": [
    "**Link**: https://leetcode.com/problems/vertical-order-traversal-of-a-binary-tree/\n",
    "\n",
    "Given the root of a binary tree, calculate the vertical order traversal of the binary tree.\n",
    "\n",
    "For each node at position (x, y), its left and right children will be at positions (x - 1, y - 1) and (x + 1, y - 1) respectively.\n",
    "\n",
    "The vertical order traversal of a binary tree is a list of non-empty reports for each unique x-coordinate from left to right. Each report is a list of all nodes at a given x-coordinate. The report should be primarily sorted by y-coordinate from highest y-coordinate to lowest. If any two nodes have the same y-coordinate in the report, the node with the smaller value should appear earlier.\n",
    "\n",
    "Return the vertical order traversal of the binary tree."
   ]
  },
  {
   "cell_type": "markdown",
   "metadata": {},
   "source": [
    "### Solution\n",
    "1. Create a hash table\n",
    "2. Run dfs and record their position\n",
    "3. Sort the hash table"
   ]
  },
  {
   "cell_type": "code",
   "execution_count": null,
   "metadata": {},
   "outputs": [],
   "source": [
    "# Definition for a binary tree node.\n",
    "# class TreeNode:\n",
    "#     def __init__(self, val=0, left=None, right=None):\n",
    "#         self.val = val\n",
    "#         self.left = left\n",
    "#         self.right = right\n",
    "class Solution:\n",
    "    def verticalTraversal(self, root: TreeNode) -> List[List[int]]:\n",
    "        visited = collections.defaultdict(lambda: collections.defaultdict(list))\n",
    "        res = []\n",
    "        def dfs(node, x = 0, y = 0):\n",
    "            if node:\n",
    "                visited[x][y].append(node)\n",
    "                dfs(node.left,x-1,y+1)\n",
    "                dfs(node.right,x+1,y+1)\n",
    "        \n",
    "        \n",
    "        dfs(root)       \n",
    "        for x in sorted(visited):\n",
    "            report = []\n",
    "            for y in sorted(visited[x]):\n",
    "                report.extend(sorted(node.val for node in visited[x][y]))\n",
    "            res.append(report)\n",
    "            \n",
    "        return res"
   ]
  }
 ],
 "metadata": {
  "kernelspec": {
   "display_name": "Python 3",
   "language": "python",
   "name": "python3"
  },
  "language_info": {
   "codemirror_mode": {
    "name": "ipython",
    "version": 3
   },
   "file_extension": ".py",
   "mimetype": "text/x-python",
   "name": "python",
   "nbconvert_exporter": "python",
   "pygments_lexer": "ipython3",
   "version": "3.7.3"
  }
 },
 "nbformat": 4,
 "nbformat_minor": 2
}
